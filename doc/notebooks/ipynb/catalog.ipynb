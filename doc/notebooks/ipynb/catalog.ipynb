{
 "cells": [
  {
   "cell_type": "markdown",
   "metadata": {},
   "source": [
    "# Catalog\n",
    "\n",
    "The access to geospatial data has changed significantly over the past decade. Data has traditionally been accessed by downloading several files to a local computer, then analyzing them with software or programming languages. It has always been difficult to access analysis-ready datasets due to the diversity of data formats (NetCDF, Grib2, Geotiff, Shapefile, etc.) and the variety of access protocols from different providers (Opendap, HTTPS, SFTP, WPS, API Rest, Datamarts, etc.). Beyond that, with the ever-increasing size of geospatial datasets, most modern datasets cannot even fit on a local computer, limiting science's progress.\n",
    "\n",
    "The catalog presented here consists of large-scale analysis-ready cloud optimized (ARCO) datasets. In order to implement an entry point for these datasets, we have followed the methodology developed by the Pangeo community, which combines multiple technologies:\n",
    "\n",
    "- Data Lake (or S3, Azure Data Lake Storage, GCS, etc.) : distributed file-object storage\n",
    "- [Zarr](https://zarr.readthedocs.io/en/stable/) (or alternatively TileDB, COGs) : chunked N-dimensionnal array formats\n",
    "- [Dask](https://docs.dask.org/en/stable/)  (or alternatively Spark, Ray, Distributed) : distributed computing and lazy loading\n",
    "- [Intake](https://intake.readthedocs.io/en/latest) Catalogs (or alternatively STAC) : a general interface for loading different data formats, mostly but not limited to spatiotemporal assets\n",
    "\n",
    "For more information, please refer to the [pangeo's website](https://pangeo.io/).\n",
    "\n",
    "It is important to keep in mind that most datasets in the catalogue have language-agnostic formats (such as Zarr, netcdfs, geojson, etc.), making them accessible through a variety of programming languages (including Python, Julia, Javascript, C, etc.) that implement the specifications for these formats.\n"
   ]
  },
  {
   "cell_type": "code",
   "execution_count": null,
   "metadata": {
    "nbsphinx": "hidden"
   },
   "outputs": [],
   "source": [
    "import pandas as pd\n",
    "import intake\n",
    "from itables import init_notebook_mode, show\n",
    "\n",
    "init_notebook_mode(all_interactive=True)\n",
    "catalog_url = 'https://raw.githubusercontent.com/hydrocloudservices/catalogs/main/catalogs/main.yaml'\n",
    "cat=intake.open_catalog(catalog_url)\n",
    "\n",
    "pd.set_option('display.max_colwidth', None)\n",
    "\n",
    "df = pd.DataFrame([[field , \n",
    "               dataset, \n",
    "               cat[field][dataset].describe()['description'], \n",
    "               cat[field][dataset].describe()['metadata']['status'][0]]\n",
    "              for field in list(cat._entries.keys())\n",
    "              for dataset in cat[field]._entries.keys()],\n",
    "            columns=['field', 'dataset_name', 'description', 'status']) \\\n",
    ".sort_values('field') \\\n",
    ".reset_index(drop=True)\n",
    "show(df, \n",
    "     tags=\"<caption>Countries from the World Bank Database</caption>\",\n",
    "     column_filters=\"footer\", \n",
    "     dom=\"lrtip\")\n"
   ]
  }
 ],
 "metadata": {
  "celltoolbar": "Éditer les Méta-Données",
  "kernelspec": {
   "display_name": "eo",
   "language": "python",
   "name": "eo"
  },
  "language_info": {
   "codemirror_mode": {
    "name": "ipython",
    "version": 3
   },
   "file_extension": ".py",
   "mimetype": "text/x-python",
   "name": "python",
   "nbconvert_exporter": "python",
   "pygments_lexer": "ipython3",
   "version": "3.9.7"
  }
 },
 "nbformat": 4,
 "nbformat_minor": 2
}
